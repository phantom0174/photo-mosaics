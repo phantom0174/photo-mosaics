{
 "cells": [
  {
   "cell_type": "code",
   "execution_count": 1,
   "metadata": {},
   "outputs": [],
   "source": [
    "import os\n",
    "import cv2\n",
    "import matplotlib.pyplot as plt\n",
    "import numpy as np\n",
    "import json\n",
    "import random\n",
    "from PIL import Image\n",
    "from sklearn.neighbors import NearestNeighbors"
   ]
  },
  {
   "cell_type": "code",
   "execution_count": 2,
   "metadata": {},
   "outputs": [],
   "source": [
    "video_root = './v'\n",
    "data_root = './data'\n",
    "\n",
    "if not os.path.exists(data_root):\n",
    "    os.makedirs(data_root)"
   ]
  },
  {
   "cell_type": "code",
   "execution_count": 3,
   "metadata": {},
   "outputs": [],
   "source": [
    "# shape of library img\n",
    "W = 1280\n",
    "H = 720\n",
    "\n",
    "# load library\n",
    "with open('./avr_rgb.json', 'r', encoding='utf-8') as f:\n",
    "    avr_RGB_data = json.load(f)\n",
    "    \n",
    "lib_RGB = list(avr_RGB_data.values())\n",
    "lib_serials = list(avr_RGB_data.keys())"
   ]
  },
  {
   "cell_type": "code",
   "execution_count": 4,
   "metadata": {},
   "outputs": [],
   "source": [
    "nbrs = NearestNeighbors(n_neighbors=5, algorithm='ball_tree').fit(lib_RGB)"
   ]
  },
  {
   "cell_type": "code",
   "execution_count": 5,
   "metadata": {},
   "outputs": [],
   "source": [
    "def get_fitted_target(serial: int):\n",
    "\ttarget = cv2.imread(f'./target/{serial}.jpg')\n",
    "\t\n",
    "\th, w, _ = target.shape\n",
    "\th_prime = round(H / W * w)\n",
    "\treturn cv2.resize(target, (w, h_prime))"
   ]
  },
  {
   "cell_type": "code",
   "execution_count": 6,
   "metadata": {},
   "outputs": [],
   "source": [
    "W_SIZE = 200\n",
    "H_SIZE = 200\n",
    "\n",
    "def subdivide(t):\n",
    "\tsubs = []\n",
    "\n",
    "\theight, width, channels = t.shape\n",
    "\n",
    "\tw_sub = width / W_SIZE\n",
    "\th_sub = height / H_SIZE\n",
    "\n",
    "\tfor ih in range(H_SIZE):\n",
    "\t\tfor iw in range(W_SIZE):\n",
    "\t\t\tx = w_sub * iw \n",
    "\t\t\ty = h_sub * ih\n",
    "\n",
    "\t\t\tsub = t[int(y):int(y+h_sub), int(x):int(x+w_sub)]\n",
    "\t\t\tsubs.append(sub)\n",
    "\n",
    "\treturn subs"
   ]
  },
  {
   "cell_type": "code",
   "execution_count": 7,
   "metadata": {},
   "outputs": [],
   "source": [
    "def get_subdivide_RGB(subs):\n",
    "\tdata = {}\n",
    "\tfor i, img in enumerate(subs):\n",
    "\t\tdata[i] = [round(np.mean(c)) for c in cv2.split(img)]\n",
    "\n",
    "\treturn data"
   ]
  },
  {
   "cell_type": "code",
   "execution_count": 8,
   "metadata": {},
   "outputs": [],
   "source": [
    "def select_candidates(t_RGB):\n",
    "\t_, indices = nbrs.kneighbors(t_RGB)\n",
    "\n",
    "\tselected_serial = []\n",
    "\tfor ind in indices:\n",
    "\t\tind = ind.tolist()\n",
    "\t\tfit_num = random.sample(ind, 1)[0]\n",
    "\t\tfit_serial = lib_serials[fit_num]\n",
    "\t\tselected_serial.append(fit_serial)\n",
    "\n",
    "\treturn selected_serial"
   ]
  },
  {
   "cell_type": "code",
   "execution_count": 9,
   "metadata": {},
   "outputs": [
    {
     "name": "stdout",
     "output_type": "stream",
     "text": [
      "32.0 18.0\n",
      "6400 3600\n"
     ]
    }
   ],
   "source": [
    "# thumbnail & output shape settings\n",
    "\n",
    "thumb_width, thumb_height = W / W_SIZE * 5, H / H_SIZE * 5\n",
    "grid_width = round(W_SIZE * thumb_width)\n",
    "grid_height = round(H_SIZE * thumb_height)\n",
    "\n",
    "print(thumb_width, thumb_height)\n",
    "print(grid_width, grid_height)\n",
    "\n",
    "thumb_width, thumb_height = round(thumb_width), round(thumb_height)"
   ]
  },
  {
   "cell_type": "code",
   "execution_count": 10,
   "metadata": {},
   "outputs": [],
   "source": [
    "def load_image(serial):\n",
    "\timg_path = f\"{data_root}/{serial}.jpg\"\n",
    "\t\n",
    "\ttry:\n",
    "\t\timg = Image.open(img_path).convert(\"RGB\")\n",
    "\t\treturn img.resize((thumb_width, thumb_height), Image.Resampling.LANCZOS)\n",
    "\texcept Exception as e:\n",
    "\t\tprint(img_path)\n",
    "\t\tprint(e)"
   ]
  },
  {
   "cell_type": "code",
   "execution_count": 11,
   "metadata": {},
   "outputs": [],
   "source": [
    "img_buffer = {}\n",
    "\n",
    "def get_buffer(serial):\n",
    "\timg = img_buffer.get(serial, None)\n",
    "\tif img is None:\n",
    "\t\timg_buffer[serial] = load_image(serial)\n",
    "\t\treturn img_buffer[serial]\n",
    "\telse:\n",
    "\t\treturn img\n",
    "\t\n",
    "def clear_buffer():\n",
    "\tfor k, v in img_buffer.items():\n",
    "\t\tv.close()"
   ]
  },
  {
   "cell_type": "code",
   "execution_count": 12,
   "metadata": {},
   "outputs": [],
   "source": [
    "def gen_result(candidates):\n",
    "\tcomposite_image = Image.new(\"RGB\", (grid_width, grid_height))\n",
    "\n",
    "\tfor i, serial in enumerate(candidates):\n",
    "\t\tx = (i % W_SIZE) * thumb_width\n",
    "\t\ty = (i // W_SIZE) * thumb_height\n",
    "\n",
    "\t\tcomposite_image.paste(get_buffer(serial), (round(x), round(y)))\n",
    "\n",
    "\treturn composite_image"
   ]
  },
  {
   "cell_type": "code",
   "execution_count": 13,
   "metadata": {},
   "outputs": [],
   "source": [
    "def target_workflow(target):\n",
    "\tt = get_fitted_target(target)\n",
    "\tt = cv2.cvtColor(t, cv2.COLOR_BGR2RGB)\n",
    "\n",
    "\tsubs = subdivide(t)\n",
    "\n",
    "\tt_RGB_data = get_subdivide_RGB(subs)\n",
    "\tt_RGB = list(t_RGB_data.values())\n",
    "\t# t_serials = list(t_RGB_data.keys())\n",
    "\n",
    "\tcandidates = select_candidates(t_RGB)\n",
    "\tresult = gen_result(candidates)\n",
    "\n",
    "\twith open(f'./result/{target}.jpg', 'w+') as f:\n",
    "\t\tresult.save(f, \"JPEG\")\n",
    "\n",
    "\tresult.close()"
   ]
  },
  {
   "cell_type": "code",
   "execution_count": 17,
   "metadata": {},
   "outputs": [
    {
     "name": "stdout",
     "output_type": "stream",
     "text": [
      "processing target 1\n",
      "processing target 2\n",
      "processing target 3\n",
      "processing target 4\n",
      "processing target 5\n",
      "processing target 6\n",
      "processing target 7\n",
      "processing target 8\n",
      "processing target 9\n",
      "processing target 10\n",
      "processing target 11\n",
      "processing target 12\n"
     ]
    }
   ],
   "source": [
    "for i in range(1, 12 + 1):\n",
    "    print(f\"processing target {i}\")\n",
    "    target_workflow(i)"
   ]
  },
  {
   "cell_type": "code",
   "execution_count": 15,
   "metadata": {},
   "outputs": [],
   "source": [
    "# img_buffer = {}"
   ]
  }
 ],
 "metadata": {
  "kernelspec": {
   "display_name": "Python 3",
   "language": "python",
   "name": "python3"
  },
  "language_info": {
   "codemirror_mode": {
    "name": "ipython",
    "version": 3
   },
   "file_extension": ".py",
   "mimetype": "text/x-python",
   "name": "python",
   "nbconvert_exporter": "python",
   "pygments_lexer": "ipython3",
   "version": "3.13.0"
  }
 },
 "nbformat": 4,
 "nbformat_minor": 2
}
