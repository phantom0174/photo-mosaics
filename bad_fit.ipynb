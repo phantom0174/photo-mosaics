{
 "cells": [
  {
   "cell_type": "code",
   "execution_count": 1,
   "metadata": {},
   "outputs": [],
   "source": [
    "import os\n",
    "import cv2\n",
    "import matplotlib.pyplot as plt\n",
    "import numpy as np\n",
    "import json\n",
    "import random\n",
    "from PIL import Image\n",
    "from sklearn.neighbors import NearestNeighbors"
   ]
  },
  {
   "cell_type": "code",
   "execution_count": 2,
   "metadata": {},
   "outputs": [],
   "source": [
    "video_root = './v'\n",
    "data_root = './bad_frames'\n",
    "\n",
    "if not os.path.exists(data_root):\n",
    "    os.makedirs(data_root)"
   ]
  },
  {
   "cell_type": "code",
   "execution_count": 3,
   "metadata": {},
   "outputs": [],
   "source": [
    "# shape of library img\n",
    "W = 480\n",
    "H = 360\n",
    "\n",
    "# load library\n",
    "with open('./BAD_grey_edge.json', 'r', encoding='utf-8') as f:\n",
    "    avr_RGB_data = json.load(f)\n",
    "    \n",
    "lib_RGB = list(np.array(v) for v in avr_RGB_data.values())\n",
    "lib_serials = list(avr_RGB_data.keys())"
   ]
  },
  {
   "cell_type": "code",
   "execution_count": 4,
   "metadata": {},
   "outputs": [],
   "source": [
    "nbrs = NearestNeighbors(n_neighbors=1, algorithm='ball_tree').fit(lib_RGB) # 1 for stable video mode"
   ]
  },
  {
   "cell_type": "code",
   "execution_count": 5,
   "metadata": {},
   "outputs": [],
   "source": [
    "def get_fitted_target(serial: int):\n",
    "\ttarget = cv2.imread(f'./bad_frames/{serial}.jpg')\n",
    "\t\n",
    "\th, w, _ = target.shape\n",
    "\th_prime = round(H / W * w)\n",
    "\treturn cv2.resize(target, (w, h_prime))"
   ]
  },
  {
   "cell_type": "code",
   "execution_count": 6,
   "metadata": {},
   "outputs": [],
   "source": [
    "W_SIZE = 40\n",
    "H_SIZE = 40\n",
    "\n",
    "def subdivide(t):\n",
    "\tsubs = []\n",
    "\n",
    "\theight, width, channels = t.shape\n",
    "\n",
    "\tw_sub = width / W_SIZE\n",
    "\th_sub = height / H_SIZE\n",
    "\n",
    "\tfor ih in range(H_SIZE):\n",
    "\t\tfor iw in range(W_SIZE):\n",
    "\t\t\tx = w_sub * iw \n",
    "\t\t\ty = h_sub * ih\n",
    "\n",
    "\t\t\tsub = t[int(y):int(y+h_sub), int(x):int(x+w_sub)]\n",
    "\t\t\tsubs.append(sub)\n",
    "\n",
    "\treturn subs"
   ]
  },
  {
   "cell_type": "code",
   "execution_count": 7,
   "metadata": {},
   "outputs": [],
   "source": [
    "# 色彩特徵維度較低\n",
    "grey_bins = 16   # RGB 各通道 4 分區，共 64 維\n",
    "edge_bins = 16           # 輪廓方向分成 16 區\n",
    "edge_weight = 2.0        # 邊緣特徵的權重\n",
    "\n",
    "\n",
    "def get_subdivide_RGB(subs):\n",
    "\tdata = {}\n",
    "\tfor i, img in enumerate(subs):\n",
    "\t\tgray = cv2.cvtColor(img, cv2.COLOR_RGB2GRAY)\n",
    "\n",
    "\t\t# ===== 🎨 顏色特徵 (RGB 3D Histogram) =====\n",
    "\t\thist = cv2.calcHist([gray], [0], None, [grey_bins], [0, 256])  # 分成 16 bins\n",
    "\t\thist = cv2.normalize(hist, hist).flatten()  # shape: (grey_bins,)\n",
    "\n",
    "\t\t# ===== 📐 邊緣方向特徵 (Gradient Orientation Histogram) =====\n",
    "\t\tsobelx = cv2.Sobel(gray, cv2.CV_64F, 1, 0, ksize=3)\n",
    "\t\tsobely = cv2.Sobel(gray, cv2.CV_64F, 0, 1, ksize=3)\n",
    "\t\tmagnitude = np.sqrt(sobelx**2 + sobely**2)\n",
    "\t\torientation = np.arctan2(sobely, sobelx)  # [-π, π]\n",
    "\n",
    "\t\t# 計算方向分布直方圖（以 magnitude 加權）\n",
    "\t\torientation_hist, _ = np.histogram(\n",
    "\t\t\torientation,\n",
    "\t\t\tbins=edge_bins,\n",
    "\t\t\trange=(-np.pi, np.pi),\n",
    "\t\t\tweights=magnitude\n",
    "\t\t)\n",
    "\t\torientation_hist = orientation_hist / (np.sum(orientation_hist) + 1e-5)  # normalize\n",
    "\n",
    "\t\t# 合併特徵向量\n",
    "\t\tcombined_feature = np.concatenate([\n",
    "\t\t\thist,\n",
    "\t\t\torientation_hist * edge_weight\n",
    "\t\t])  # shape: grey_bins + edge_bins = 32\n",
    "\n",
    "\t\tdata[i] = combined_feature\n",
    "\n",
    "\treturn data"
   ]
  },
  {
   "cell_type": "code",
   "execution_count": 8,
   "metadata": {},
   "outputs": [],
   "source": [
    "def select_candidates(t_RGB):\n",
    "\t_, indices = nbrs.kneighbors(t_RGB)\n",
    "\n",
    "\tselected_serial = []\n",
    "\tfor ind in indices:\n",
    "\t\tind = ind.tolist()\n",
    "\t\tfit_num = random.sample(ind, 1)[0]\n",
    "\t\tfit_serial = lib_serials[fit_num]\n",
    "\t\tselected_serial.append(fit_serial)\n",
    "\n",
    "\treturn selected_serial"
   ]
  },
  {
   "cell_type": "code",
   "execution_count": 9,
   "metadata": {},
   "outputs": [
    {
     "name": "stdout",
     "output_type": "stream",
     "text": [
      "24.0 18.0\n",
      "960 720\n"
     ]
    }
   ],
   "source": [
    "# thumbnail & output shape settings\n",
    "\n",
    "thumb_width, thumb_height = W / W_SIZE * 2, H / H_SIZE * 2 # ori: 5\n",
    "grid_width = round(W_SIZE * thumb_width)\n",
    "grid_height = round(H_SIZE * thumb_height)\n",
    "\n",
    "print(thumb_width, thumb_height)\n",
    "print(grid_width, grid_height)\n",
    "\n",
    "thumb_width, thumb_height = round(thumb_width), round(thumb_height)"
   ]
  },
  {
   "cell_type": "code",
   "execution_count": 10,
   "metadata": {},
   "outputs": [],
   "source": [
    "def load_image(serial):\n",
    "\timg_path = f\"{data_root}/{serial}.jpg\"\n",
    "\t\n",
    "\ttry:\n",
    "\t\timg = Image.open(img_path).convert(\"RGB\")\n",
    "\t\treturn img.resize((thumb_width, thumb_height), Image.Resampling.LANCZOS)\n",
    "\texcept Exception as e:\n",
    "\t\tprint(img_path)\n",
    "\t\tprint(e)"
   ]
  },
  {
   "cell_type": "code",
   "execution_count": 11,
   "metadata": {},
   "outputs": [],
   "source": [
    "img_buffer = {}\n",
    "\n",
    "def get_buffer(serial):\n",
    "\timg = img_buffer.get(serial, None)\n",
    "\tif img is None:\n",
    "\t\timg_buffer[serial] = load_image(serial)\n",
    "\t\treturn img_buffer[serial]\n",
    "\telse:\n",
    "\t\treturn img\n",
    "\t\n",
    "def clear_buffer():\n",
    "\tfor k, v in img_buffer.items():\n",
    "\t\tv.close()"
   ]
  },
  {
   "cell_type": "code",
   "execution_count": 12,
   "metadata": {},
   "outputs": [],
   "source": [
    "def gen_result(candidates):\n",
    "\tcomposite_image = Image.new(\"RGB\", (grid_width, grid_height))\n",
    "\n",
    "\tfor i, serial in enumerate(candidates):\n",
    "\t\tx = (i % W_SIZE) * thumb_width\n",
    "\t\ty = (i // W_SIZE) * thumb_height\n",
    "\n",
    "\t\tcomposite_image.paste(get_buffer(serial), (round(x), round(y)))\n",
    "\n",
    "\treturn composite_image"
   ]
  },
  {
   "cell_type": "code",
   "execution_count": 13,
   "metadata": {},
   "outputs": [],
   "source": [
    "def target_workflow(target):\n",
    "\tt = get_fitted_target(target)\n",
    "\tt = cv2.cvtColor(t, cv2.COLOR_BGR2RGB)\n",
    "\n",
    "\tsubs = subdivide(t)\n",
    "\n",
    "\tt_RGB_data = get_subdivide_RGB(subs)\n",
    "\tt_RGB = list(t_RGB_data.values())\n",
    "\t# t_serials = list(t_RGB_data.keys())\n",
    "\n",
    "\tcandidates = select_candidates(t_RGB)\n",
    "\tresult = gen_result(candidates)\n",
    "\n",
    "\twith open(f'./bad_bad_fit/{target}.jpg', 'w+') as f:\n",
    "\t\tresult.save(f, \"JPEG\")\n",
    "\n",
    "\tresult.close()"
   ]
  },
  {
   "cell_type": "code",
   "execution_count": 14,
   "metadata": {},
   "outputs": [
    {
     "name": "stderr",
     "output_type": "stream",
     "text": [
      "6572it [24:56,  4.39it/s]\n"
     ]
    }
   ],
   "source": [
    "from concurrent.futures import ThreadPoolExecutor, as_completed\n",
    "from tqdm import tqdm\n",
    "\n",
    "MAX = 6571\n",
    "\n",
    "def run():\n",
    "\twith ThreadPoolExecutor(max_workers=50) as executor:\n",
    "\t\tfutures = {executor.submit(target_workflow, i): i for i in range(MAX + 1)}\n",
    "\t\tfor future in tqdm(as_completed(futures)):\n",
    "\t\t\ttry:\n",
    "\t\t\t\tfuture.result()  # 確保沒有異常\n",
    "\t\t\texcept Exception as e:\n",
    "\t\t\t\tprint(f\"Error processing {futures[future]}: {e}\")\n",
    "\n",
    "run()"
   ]
  },
  {
   "cell_type": "code",
   "execution_count": 15,
   "metadata": {},
   "outputs": [],
   "source": [
    "# img_buffer = {}"
   ]
  }
 ],
 "metadata": {
  "kernelspec": {
   "display_name": "Python 3",
   "language": "python",
   "name": "python3"
  },
  "language_info": {
   "codemirror_mode": {
    "name": "ipython",
    "version": 3
   },
   "file_extension": ".py",
   "mimetype": "text/x-python",
   "name": "python",
   "nbconvert_exporter": "python",
   "pygments_lexer": "ipython3",
   "version": "3.13.5"
  }
 },
 "nbformat": 4,
 "nbformat_minor": 2
}
