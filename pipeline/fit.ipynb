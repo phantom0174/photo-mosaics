{
 "cells": [
  {
   "cell_type": "code",
   "execution_count": 75,
   "metadata": {},
   "outputs": [],
   "source": [
    "import os\n",
    "import cv2\n",
    "import matplotlib.pyplot as plt\n",
    "import numpy as np\n",
    "import json\n",
    "import random\n",
    "from PIL import Image\n",
    "from sklearn.neighbors import NearestNeighbors"
   ]
  },
  {
   "cell_type": "code",
   "execution_count": 76,
   "metadata": {},
   "outputs": [],
   "source": [
    "video_root = './v'\n",
    "data_root = '../../data'\n",
    "fit_data_root = '../../target'\n",
    "\n",
    "if not os.path.exists(data_root):\n",
    "    os.makedirs(data_root)"
   ]
  },
  {
   "cell_type": "code",
   "execution_count": 77,
   "metadata": {},
   "outputs": [],
   "source": [
    "# shape of library img (SAO se3 frames)\n",
    "W = 1280\n",
    "H = 720\n",
    "\n",
    "# load library\n",
    "with open('./rgb_avr_hist_edge.json', 'r', encoding='utf-8') as f:\n",
    "    avr_RGB_data = json.load(f)\n",
    "    \n",
    "lib_RGB = list(np.array(v) for v in avr_RGB_data.values()) # unpack to ndarrays\n",
    "lib_serials = list(avr_RGB_data.keys())"
   ]
  },
  {
   "cell_type": "code",
   "execution_count": 78,
   "metadata": {},
   "outputs": [],
   "source": [
    "nbrs = NearestNeighbors(n_neighbors=5, algorithm='ball_tree').fit(lib_RGB)"
   ]
  },
  {
   "cell_type": "code",
   "execution_count": 79,
   "metadata": {},
   "outputs": [],
   "source": [
    "def get_fitted_target(serial: int):\n",
    "\ttarget = cv2.imread(f'{fit_data_root}/{serial}.jpg')\n",
    "\t\n",
    "\th, w, _ = target.shape\n",
    "\th_prime = round(H / W * w)\n",
    "\treturn cv2.resize(target, (w, h_prime))"
   ]
  },
  {
   "cell_type": "code",
   "execution_count": null,
   "metadata": {},
   "outputs": [],
   "source": [
    "W_SIZE = 200\n",
    "H_SIZE = 200\n",
    "\n",
    "def subdivide(t):\n",
    "\tsubs = []\n",
    "\n",
    "\theight, width, channels = t.shape\n",
    "\n",
    "\tw_sub = width / W_SIZE\n",
    "\th_sub = height / H_SIZE\n",
    "\n",
    "\tfor ih in range(H_SIZE):\n",
    "\t\tfor iw in range(W_SIZE):\n",
    "\t\t\tx = w_sub * iw \n",
    "\t\t\ty = h_sub * ih\n",
    "\n",
    "\t\t\tsub = t[int(y):int(y+h_sub), int(x):int(x+w_sub)]\n",
    "\t\t\tsubs.append(sub)\n",
    "\n",
    "\treturn subs"
   ]
  },
  {
   "cell_type": "code",
   "execution_count": 92,
   "metadata": {},
   "outputs": [],
   "source": [
    "# 色彩特徵維度較低\n",
    "color_bins = [4, 4, 4]   # RGB 各通道 4 分區，共 64 維\n",
    "edge_bins = 16           # 輪廓方向分成 16 區\n",
    "edge_weight = 2.0        # 邊緣特徵的權重\n",
    "\n",
    "\n",
    "def get_features(image_rgb):\n",
    "\tgray = cv2.cvtColor(image_rgb, cv2.COLOR_RGB2GRAY)\n",
    "\n",
    "\t# ===== 🎨 顏色特徵 (RGB 3D Histogram) =====\n",
    "\thist = cv2.calcHist([image_rgb], [0, 1, 2], None, color_bins, [0, 256]*3)\n",
    "\thist = cv2.normalize(hist, hist).flatten()  # shape: (64,)\n",
    "\n",
    "\tavr_rgb = [round(np.mean(c)) for c in cv2.split(image_rgb)]\n",
    "\n",
    "\t# ===== 📐 邊緣方向特徵 (Gradient Orientation Histogram) =====\n",
    "\tsobelx = cv2.Sobel(gray, cv2.CV_64F, 1, 0, ksize=3)\n",
    "\tsobely = cv2.Sobel(gray, cv2.CV_64F, 0, 1, ksize=3)\n",
    "\tmagnitude = np.sqrt(sobelx**2 + sobely**2)\n",
    "\torientation = np.arctan2(sobely, sobelx)  # [-π, π]\n",
    "\n",
    "\t# 計算方向分布直方圖（以 magnitude 加權）\n",
    "\torientation_hist, _ = np.histogram(\n",
    "\t\torientation,\n",
    "\t\tbins=edge_bins,\n",
    "\t\trange=(-np.pi, np.pi),\n",
    "\t\tweights=magnitude\n",
    "\t)\n",
    "\torientation_hist = orientation_hist / (np.sum(orientation_hist) + 1e-5)  # normalize\n",
    "\n",
    "\t# combine features into ndarray\n",
    "\treturn np.concatenate([\n",
    "\t\tavr_rgb,\n",
    "\t\thist,\n",
    "\t\torientation_hist * edge_weight\n",
    "\t]) # shape: 3 + 4^3 + 16 = 83\n",
    "\n",
    "def get_subdivide_RGB(subs):\n",
    "\tdata = {}\n",
    "\tfor i, img in enumerate(subs):\n",
    "\t\t# img comes in RGB\n",
    "\t\t# data[i] = [round(np.mean(c)) for c in cv2.split(img)]\n",
    "\n",
    "\t\tdata[i] = get_features(img)\n",
    "\n",
    "\treturn data"
   ]
  },
  {
   "cell_type": "code",
   "execution_count": 93,
   "metadata": {},
   "outputs": [],
   "source": [
    "def select_candidates(t_RGB):\n",
    "\t_, indices = nbrs.kneighbors(t_RGB)\n",
    "\n",
    "\tselected_serial = []\n",
    "\tfor ind in indices:\n",
    "\t\tind = ind.tolist()\n",
    "\t\tfit_num = random.sample(ind, 1)[0]\n",
    "\t\tfit_serial = lib_serials[fit_num]\n",
    "\t\tselected_serial.append(fit_serial)\n",
    "\n",
    "\treturn selected_serial"
   ]
  },
  {
   "cell_type": "code",
   "execution_count": 94,
   "metadata": {},
   "outputs": [
    {
     "name": "stdout",
     "output_type": "stream",
     "text": [
      "16.0 9.0\n",
      "6400 3600\n"
     ]
    }
   ],
   "source": [
    "# thumbnail & output shape settings\n",
    "\n",
    "thumb_width, thumb_height = W / W_SIZE * 5, H / H_SIZE * 5\n",
    "grid_width = round(W_SIZE * thumb_width)\n",
    "grid_height = round(H_SIZE * thumb_height)\n",
    "\n",
    "print(thumb_width, thumb_height)\n",
    "print(grid_width, grid_height)\n",
    "\n",
    "thumb_width, thumb_height = round(thumb_width), round(thumb_height)"
   ]
  },
  {
   "cell_type": "code",
   "execution_count": 95,
   "metadata": {},
   "outputs": [],
   "source": [
    "def load_image(serial):\n",
    "\timg_path = f\"{data_root}/{serial}.jpg\"\n",
    "\t\n",
    "\ttry:\n",
    "\t\timg = Image.open(img_path).convert(\"RGB\")\n",
    "\t\treturn img.resize((thumb_width, thumb_height), Image.Resampling.LANCZOS)\n",
    "\texcept Exception as e:\n",
    "\t\tprint(img_path)\n",
    "\t\tprint(e)"
   ]
  },
  {
   "cell_type": "code",
   "execution_count": 96,
   "metadata": {},
   "outputs": [],
   "source": [
    "img_buffer = {}\n",
    "\n",
    "def get_buffer(serial):\n",
    "\timg = img_buffer.get(serial, None)\n",
    "\tif img is None:\n",
    "\t\timg_buffer[serial] = load_image(serial)\n",
    "\t\treturn img_buffer[serial]\n",
    "\telse:\n",
    "\t\treturn img\n",
    "\t\n",
    "def clear_buffer():\n",
    "\tfor k, v in img_buffer.items():\n",
    "\t\tv.close()"
   ]
  },
  {
   "cell_type": "code",
   "execution_count": 97,
   "metadata": {},
   "outputs": [],
   "source": [
    "def gen_result(candidates):\n",
    "\tcomposite_image = Image.new(\"RGB\", (grid_width, grid_height))\n",
    "\n",
    "\tfor i, serial in enumerate(candidates):\n",
    "\t\tx = (i % W_SIZE) * thumb_width\n",
    "\t\ty = (i // W_SIZE) * thumb_height\n",
    "\n",
    "\t\tcomposite_image.paste(get_buffer(serial), (round(x), round(y)))\n",
    "\n",
    "\treturn composite_image"
   ]
  },
  {
   "cell_type": "code",
   "execution_count": 98,
   "metadata": {},
   "outputs": [],
   "source": [
    "output_root = '../../result_lowres'"
   ]
  },
  {
   "cell_type": "code",
   "execution_count": 99,
   "metadata": {},
   "outputs": [],
   "source": [
    "def target_workflow(target):\n",
    "\tt = get_fitted_target(target)\n",
    "\tt = cv2.cvtColor(t, cv2.COLOR_BGR2RGB)\n",
    "\n",
    "\tsubs = subdivide(t)\n",
    "\n",
    "\tt_RGB_data = get_subdivide_RGB(subs)\n",
    "\tt_RGB = list(t_RGB_data.values())\n",
    "\t# t_serials = list(t_RGB_data.keys())\n",
    "\n",
    "\tcandidates = select_candidates(t_RGB)\n",
    "\tresult = gen_result(candidates)\n",
    "\n",
    "\twith open(f'{output_root}/{target}.jpg', 'w+') as f:\n",
    "\t\tresult.save(f, \"JPEG\")\n",
    "\n",
    "\tresult.close()"
   ]
  },
  {
   "cell_type": "code",
   "execution_count": 100,
   "metadata": {},
   "outputs": [
    {
     "name": "stdout",
     "output_type": "stream",
     "text": [
      "processing target 1\n",
      "processing target 2\n",
      "processing target 3\n",
      "processing target 4\n",
      "processing target 5\n"
     ]
    }
   ],
   "source": [
    "for i in range(1, 5 + 1):\n",
    "    print(f\"processing target {i}\")\n",
    "    target_workflow(i)"
   ]
  },
  {
   "cell_type": "code",
   "execution_count": 101,
   "metadata": {},
   "outputs": [],
   "source": [
    "# img_buffer = {}"
   ]
  }
 ],
 "metadata": {
  "kernelspec": {
   "display_name": "Python 3",
   "language": "python",
   "name": "python3"
  },
  "language_info": {
   "codemirror_mode": {
    "name": "ipython",
    "version": 3
   },
   "file_extension": ".py",
   "mimetype": "text/x-python",
   "name": "python",
   "nbconvert_exporter": "python",
   "pygments_lexer": "ipython3",
   "version": "3.13.5"
  }
 },
 "nbformat": 4,
 "nbformat_minor": 2
}
